{
 "cells": [
  {
   "cell_type": "code",
   "execution_count": 1,
   "metadata": {},
   "outputs": [],
   "source": [
    "import random as rand"
   ]
  },
  {
   "cell_type": "code",
   "execution_count": 77,
   "metadata": {},
   "outputs": [],
   "source": [
    "def check(x, n, gus):\n",
    "    if (x == n):\n",
    "        print (\"you win\")\n",
    "        return True\n",
    "    elif (x > n and gus > 0):        \n",
    "        print (\"Keep trying lower\")\n",
    "        CheckGuess (gus)\n",
    "        return False\n",
    "    elif (x < n and gus > 0):\n",
    "        print (\"Keep trying higher\")\n",
    "        CheckGuess (gus)\n",
    "        return False\n",
    "    else:\n",
    "        print (\"You lost!!\")\n",
    "        print (\"The number is: \", n)\n",
    "        return False\n",
    "    \n",
    "def CheckGuess(b):\n",
    "    if (b == 1):\n",
    "        print (\"This is your last chance\")\n",
    "        "
   ]
  },
  {
   "cell_type": "code",
   "execution_count": 79,
   "metadata": {},
   "outputs": [
    {
     "name": "stdout",
     "output_type": "stream",
     "text": [
      "Enter your guessing number: 60\n",
      "Keep trying lower\n",
      "Enter your guessing number: 40\n",
      "Keep trying higher\n",
      "Enter your guessing number: 55\n",
      "Keep trying lower\n",
      "Enter your guessing number: 48\n",
      "Keep trying lower\n",
      "This is your last chance\n",
      "Enter your guessing number: 44\n",
      "You lost!!\n",
      "The number is:  43\n"
     ]
    }
   ],
   "source": [
    "num = rand.randrange(100)\n",
    "attempts = 4\n",
    "guess = attempts\n",
    "flag = False\n",
    "\n",
    "while (guess>=0 and flag == False):\n",
    "    \n",
    "   \n",
    "    user_guess = int(input(\"Enter your guessing number: \"))\n",
    "    \n",
    "    flag = check(user_guess, num, guess)         \n",
    "    guess = guess - 1   \n"
   ]
  },
  {
   "cell_type": "code",
   "execution_count": null,
   "metadata": {},
   "outputs": [],
   "source": []
  }
 ],
 "metadata": {
  "kernelspec": {
   "display_name": "Python 3",
   "language": "python",
   "name": "python3"
  },
  "language_info": {
   "codemirror_mode": {
    "name": "ipython",
    "version": 3
   },
   "file_extension": ".py",
   "mimetype": "text/x-python",
   "name": "python",
   "nbconvert_exporter": "python",
   "pygments_lexer": "ipython3",
   "version": "3.7.4"
  }
 },
 "nbformat": 4,
 "nbformat_minor": 2
}
